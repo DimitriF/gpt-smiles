{
 "cells": [
  {
   "cell_type": "markdown",
   "metadata": {},
   "source": [
    "## Hyperparam"
   ]
  },
  {
   "cell_type": "code",
   "execution_count": 1,
   "metadata": {},
   "outputs": [],
   "source": [
    "block_size = 140\n",
    "# max_len = 20\n",
    "batch_size = 64\n",
    "n_layer = 8 \n",
    "n_head = 8 \n",
    "n_embd = 256\n",
    "max_epochs = 10"
   ]
  },
  {
   "cell_type": "markdown",
   "metadata": {},
   "source": [
    "## Import"
   ]
  },
  {
   "cell_type": "code",
   "execution_count": 2,
   "metadata": {},
   "outputs": [
    {
     "name": "stderr",
     "output_type": "stream",
     "text": [
      "12/10/2020 14:05:43 - INFO - rdkit -   Enabling RDKit 2020.09.1 jupyter extensions\n"
     ]
    }
   ],
   "source": [
    "# set up logging\n",
    "import logging\n",
    "logging.basicConfig(\n",
    "        format=\"%(asctime)s - %(levelname)s - %(name)s -   %(message)s\",\n",
    "        datefmt=\"%m/%d/%Y %H:%M:%S\",\n",
    "        level=logging.INFO,\n",
    ")\n",
    "\n",
    "# from flattenV3Advanced import flattenData\n",
    "\n",
    "# make deterministic\n",
    "from minGPT.mingpt.utils import set_seed\n",
    "set_seed(42)\n",
    "\n",
    "import numpy as np\n",
    "import torch\n",
    "import torch.nn as nn\n",
    "from torch.nn import functional as F\n",
    "device = torch.cuda.current_device()\n",
    "\n",
    "import matplotlib.pyplot as plt\n",
    "import matplotlib.patches as patches\n",
    "import numpy as np\n",
    "from datetime import datetime\n",
    "import math\n",
    "from torch.utils.data import Dataset\n",
    "from torch.utils.tensorboard import SummaryWriter\n",
    "from torchtext.data.metrics import bleu_score\n",
    "\n",
    "from minGPT.mingpt.model import GPT, GPTConfig\n",
    "# from minGPT.mingpt.trainer import Trainer, TrainerConfig\n",
    "# from minGPT.mingpt.utils import sample\n",
    "from torch.utils.data.dataloader import DataLoader\n",
    "\n",
    "from tqdm import tqdm\n",
    "import random\n",
    "import pandas as pd\n",
    "import string\n",
    "import re\n",
    "import os\n",
    "import time\n",
    "\n",
    "import logging\n",
    "\n",
    "logger = logging.getLogger(__name__)\n",
    "\n",
    "\n",
    "\n",
    "from rdkit.Chem.rdMolDescriptors import CalcMolFormula\n",
    "from rdkit import Chem\n",
    "from rdkit.rdBase import BlockLogs\n",
    "block = BlockLogs() ## not sure we want to block all but rdkit complain when wrong smiles are sent...\n",
    "\n",
    "## dataset path\n",
    "data_path = '/home/teleport/perso/2pc_cleaned.csv'\n",
    "EXPERIMENT = '20201209_DF_gpt_smiles'\n",
    "experiment_path = \"/opt/data/train_dir/\" + EXPERIMENT + \"/\"\n",
    "# if not os.path.exists(experiment_path):\n",
    "#     os.mkdir(experiment_path)\n",
    "\n",
    "%matplotlib inline"
   ]
  },
  {
   "cell_type": "markdown",
   "metadata": {},
   "source": [
    "## Trains and tensorboard"
   ]
  },
  {
   "cell_type": "code",
   "execution_count": 3,
   "metadata": {},
   "outputs": [],
   "source": [
    "# now = datetime.now()\n",
    "# writer = SummaryWriter(experiment_path + '/' + now.strftime(\"%Y%m%d-%H%M%S\") + \"/\")\n",
    "# from trains import Task\n",
    "# import trains\n",
    "# task = Task.init(project_name='gpt_smiles', task_name=EXPERIMENT)"
   ]
  },
  {
   "cell_type": "markdown",
   "metadata": {},
   "source": [
    "## Dataset"
   ]
  },
  {
   "cell_type": "code",
   "execution_count": 4,
   "metadata": {},
   "outputs": [
    {
     "data": {
      "text/plain": [
       "Index(['smiles', 'mwt', 'logp', 'n_atoms', 'MolFormula', 'l', 'CHNO',\n",
       "       'l_MolFormula', 'l_chunk', 'train'],\n",
       "      dtype='object')"
      ]
     },
     "execution_count": 4,
     "metadata": {},
     "output_type": "execute_result"
    }
   ],
   "source": [
    "data = pd.read_csv(data_path)\n",
    "data.columns"
   ]
  },
  {
   "cell_type": "code",
   "execution_count": 5,
   "metadata": {},
   "outputs": [
    {
     "name": "stdout",
     "output_type": "stream",
     "text": [
      "8659463\n",
      "8605866\n",
      "53597\n"
     ]
    }
   ],
   "source": [
    "data_train = data[data['train'] == True].reset_index()\n",
    "data_test = data[data['train'] == False].reset_index()\n",
    "print(len(data))\n",
    "print(len(data_train))\n",
    "print(len(data_test))"
   ]
  },
  {
   "cell_type": "markdown",
   "metadata": {},
   "source": [
    "## word list"
   ]
  },
  {
   "cell_type": "code",
   "execution_count": 6,
   "metadata": {},
   "outputs": [],
   "source": [
    "word_list = ['C','c','N','n','O','o','H','[',']','(',')','-','+','=','@','/','\\\\','#','$','&']\n",
    "word_list += list(string.digits)\n",
    "stoi = { ch:i for i,ch in enumerate(word_list) }\n",
    "itos = { i:ch for i,ch in enumerate(word_list) }"
   ]
  },
  {
   "cell_type": "markdown",
   "metadata": {},
   "source": [
    "## Helper functions for checking the smiles and tokenize them, detokenize them"
   ]
  },
  {
   "cell_type": "code",
   "execution_count": 93,
   "metadata": {},
   "outputs": [],
   "source": [
    "def tokenize_idx(data, idx, stoi, block_size = None, stop_token = '$', split_token = '&'):\n",
    "    return tokenize_smiles(data['smiles'][idx],data['MolFormula'][idx], stoi, block_size=block_size, stop_token = '$', split_token = '&')\n",
    "\n",
    "def tokenize_smiles(smiles, molecular_formula, stoi, block_size = None, stop_token = '$', split_token = '&'):\n",
    "    chunk = molecular_formula + split_token + smiles + stop_token\n",
    "    if block_size is not None:\n",
    "        chunk = chunk + stop_token*(block_size - len(chunk))\n",
    "    data = [stoi[s] for s in chunk]\n",
    "    return data\n",
    "\n",
    "def y_to_completion(y, itos):\n",
    "    return ''.join([itos[int(i)] for i in y])\n",
    "    \n",
    "\n",
    "def check_completion(completion, stop_token = '$', split_token = '&'):\n",
    "    '''\n",
    "    return a string with the status of the check:\n",
    "    full_failure: cannot process it at all\n",
    "    smiles_failure: MolFromSmiles return None\n",
    "    MolFormula_failure: CalcMolFormula from the smile is different\n",
    "    success: CalcMolFormula from the smile is same\n",
    "    '''\n",
    "    \n",
    "    try:\n",
    "        completion = completion.split(split_token)\n",
    "        MolFormula = completion[0]\n",
    "        smiles = completion[1].split(stop_token)[0]\n",
    "        mol = Chem.MolFromSmiles(smiles)\n",
    "        if mol is None:\n",
    "            return 'smiles_failure'\n",
    "        MolFormula_smiles = CalcMolFormula(mol)\n",
    "        if MolFormula != MolFormula_smiles:\n",
    "            return 'MolFormula_failure'\n",
    "        return 'success'\n",
    "    except:\n",
    "        return 'full_failure'\n",
    "\n",
    "def completion_to_pandas(completion):\n",
    "    smiles = []\n",
    "    MolFormulaInput = []\n",
    "    MolFormulaOutput = []\n",
    "#     logpInput = []\n",
    "    logpOutput = []\n",
    "    for i in completion:\n",
    "#         print(i)\n",
    "        i = i.split(split_token)\n",
    "        MolFormulaInput.append(i[0])\n",
    "        smile = i[1].split(stop_token)[0]\n",
    "        smiles.append(smile)\n",
    "        mol = Chem.MolFromSmiles(smile)\n",
    "        if mol is None:\n",
    "            MolFormulaOutput.append('fail')\n",
    "            logpOutput.append('fail')\n",
    "        else:\n",
    "            MolFormulaOutput.append(CalcMolFormula(mol))\n",
    "            logpOutput.append(Descriptors.MolLogP(mol))\n",
    "    df = pd.DataFrame(list(zip(logpOutput,MolFormulaInput, smiles,logpOutput, MolFormulaOutput)), \n",
    "               columns =['logpInput','MolFormulaInput', 'smiles', 'logpOutput', 'MolFormulaOutput']) \n",
    "    PandasTools.AddMoleculeColumnToFrame(df,smilesCol='smiles')\n",
    "    return(df)\n",
    "\n",
    "def check_df(df):\n",
    "    df2 = df[df['MolFormulaOutput'] != 'fail']\n",
    "    smiles_failure_ratio = (len(df) - len(df2))/len(df)\n",
    "    MolFormula_success = sum(df2['MolFormulaInput'] == df2['MolFormulaOutput'])/len(df)\n",
    "    MolFormula_failure = sum(df2['MolFormulaInput'] != df2['MolFormulaOutput'])/len(df)\n",
    "    logp_mse = mean_squared_error(df2['logpInput'],df2['logpOutput'])\n",
    "    return {'smiles_failure_ratio':smiles_failure_ratio, \n",
    "            'MolFormula_failure':MolFormula_failure,\n",
    "           'MolFormula_success':MolFormula_success,\n",
    "           'logp_mse':logp_mse}"
   ]
  },
  {
   "cell_type": "code",
   "execution_count": 8,
   "metadata": {},
   "outputs": [
    {
     "data": {
      "text/plain": [
       "'success'"
      ]
     },
     "execution_count": 8,
     "metadata": {},
     "output_type": "execute_result"
    }
   ],
   "source": [
    "y = tokenize_idx(data_test, 0, stoi)\n",
    "completion = y_to_completion(y, itos)\n",
    "\n",
    "check_completion(completion)"
   ]
  },
  {
   "cell_type": "code",
   "execution_count": 9,
   "metadata": {},
   "outputs": [
    {
     "data": {
      "text/plain": [
       "'success'"
      ]
     },
     "execution_count": 9,
     "metadata": {},
     "output_type": "execute_result"
    }
   ],
   "source": [
    "completion = 'C23H39N5O&CN(C)c1ccc(CNC(=O)CN2CCC(C)(CN3CCN(C)CC3)CC2)cc1'\n",
    "check_completion(completion)"
   ]
  },
  {
   "cell_type": "markdown",
   "metadata": {},
   "source": [
    "## Dataloader"
   ]
  },
  {
   "cell_type": "code",
   "execution_count": 10,
   "metadata": {},
   "outputs": [],
   "source": [
    "class SmilesDataset(Dataset):\n",
    "\n",
    "    def __init__(self, data, block_size, stoi, itos):\n",
    "        \n",
    "        self.data = data\n",
    "        self.stoi = stoi\n",
    "        self.itos = itos\n",
    "        self.block_size = block_size\n",
    "        self.vocab_size = len(self.stoi)\n",
    "        \n",
    "    \n",
    "    def __len__(self):\n",
    "        return len(self.data)\n",
    "\n",
    "    def __getitem__(self, idx,verbose=False):\n",
    "        converted_chunk = tokenize_idx(self.data, idx, self.stoi, self.block_size)\n",
    "            \n",
    "        x = torch.tensor(converted_chunk[:-1], dtype=torch.long)\n",
    "        y = torch.tensor(converted_chunk[1:], dtype=torch.long)\n",
    "        return x, y\n",
    "            \n",
    "train_dataset = SmilesDataset(data_train, block_size, stoi, itos) \n",
    "test_dataset = SmilesDataset(data_test, block_size, stoi, itos) \n",
    "\n",
    "df = train_dataset.__getitem__(idx = 10,verbose=True)"
   ]
  },
  {
   "cell_type": "markdown",
   "metadata": {},
   "source": [
    "## Model declaration"
   ]
  },
  {
   "cell_type": "code",
   "execution_count": 11,
   "metadata": {},
   "outputs": [
    {
     "name": "stderr",
     "output_type": "stream",
     "text": [
      "12/10/2020 14:06:10 - INFO - minGPT.mingpt.model -   number of parameters: 6.369792e+06\n"
     ]
    }
   ],
   "source": [
    "mconf = GPTConfig(train_dataset.vocab_size, train_dataset.block_size,\n",
    "                  n_layer=n_layer, n_head=n_head, n_embd=n_embd)\n",
    "model = GPT(mconf)\n",
    "# model.load_state_dict(torch.load(experiment_path + 'model_0.pt'))"
   ]
  },
  {
   "cell_type": "markdown",
   "metadata": {},
   "source": [
    "## Sample function"
   ]
  },
  {
   "cell_type": "code",
   "execution_count": 68,
   "metadata": {},
   "outputs": [],
   "source": [
    "def top_k_logits(logits, k):\n",
    "    v, ix = torch.topk(logits, k)\n",
    "    out = logits.clone()\n",
    "    out[out < v[:, [-1]]] = -float('Inf')\n",
    "    return out\n",
    "\n",
    "@torch.no_grad()\n",
    "def sample_clean(model, xs, steps, temperature=1.0, sample=False, top_k=None, itos = None, stop_token = '$',batch_size = 4):\n",
    "#     block_size = model.get_block_size()\n",
    "    model.eval()\n",
    "    xs = sorted(xs, key = lambda x: x.size(1))\n",
    "    ## add the batch size\n",
    "    xs = [torch.cat(batch_size*[x]) for x in xs]\n",
    "    \n",
    "    ## start by making them the same length\n",
    "    x = xs[0]\n",
    "    for i in range(1,len(xs)): # nothing to do if length 1\n",
    "        while x.size(1) < xs[i].size(1):\n",
    "            x_cond = x if x.size(1) <= block_size else x[:, -block_size:] # crop context if needed\n",
    "            logits, _ = model(x_cond)\n",
    "            # pluck the logits at the final step and scale by temperature\n",
    "            logits = logits[:, -1, :] / temperature\n",
    "            # optionally crop probabilities to only the top k options\n",
    "            if top_k is not None:\n",
    "                logits = top_k_logits(logits, top_k)\n",
    "            # apply softmax to convert to probabilities\n",
    "            probs = F.softmax(logits, dim=-1)\n",
    "            # sample from the distribution or take the most likely\n",
    "            if sample:\n",
    "                ix = torch.multinomial(probs, num_samples=1)\n",
    "            else:\n",
    "                _, ix = torch.topk(probs, k=1, dim=-1)\n",
    "            # append to the sequence and continue\n",
    "            x = torch.cat((x, ix), dim=1)\n",
    "        x= torch.cat((x,xs[i]), dim=0)\n",
    "    \n",
    "    \n",
    "    ## now we can keep going...\n",
    "    keep_going = True\n",
    "    while keep_going:\n",
    "#         print(x.size(1))\n",
    "        x_cond = x if x.size(1) <= block_size else x[:, -block_size:] # crop context if needed\n",
    "        logits, _ = model(x_cond)\n",
    "        # pluck the logits at the final step and scale by temperature\n",
    "        logits = logits[:, -1, :] / temperature\n",
    "        # optionally crop probabilities to only the top k options\n",
    "        if top_k is not None:\n",
    "            logits = top_k_logits(logits, top_k)\n",
    "        # apply softmax to convert to probabilities\n",
    "        probs = F.softmax(logits, dim=-1)\n",
    "        # sample from the distribution or take the most likely\n",
    "        if sample:\n",
    "            ix = torch.multinomial(probs, num_samples=1)\n",
    "        else:\n",
    "            _, ix = torch.topk(probs, k=1, dim=-1)\n",
    "        # append to the sequence and continue\n",
    "        x = torch.cat((x, ix), dim=1)\n",
    "        if x.size(1) == block_size:\n",
    "            keep_going = False\n",
    "        if itos is not None:\n",
    "            sequences_over = 0\n",
    "            for i in range(x.size(0)):                \n",
    "                if itos[int(ix[i])] == stop_token:\n",
    "                    sequences_over += 1\n",
    "            if sequences_over == x.size(0):\n",
    "                keep_going = False\n",
    "    return x\n",
    "\n",
    "def check_model_output(model, MolFormulas, stop_token = '$', split_token = '&', batch_size = 4,temperature=0.9):\n",
    "    results = []\n",
    "    completions = []\n",
    "    for i in MolFormulas:        \n",
    "        data = [stoi[s] for s in i + split_token]\n",
    "        x = [torch.tensor(data, dtype=torch.long).unsqueeze(0).to(device)]\n",
    "        y = sample_clean(model, x, steps = block_size, temperature=temperature, sample=True, top_k=5, itos = itos, stop_token = '$', batch_size = batch_size)\n",
    "        for idx in range(y.size(0)):    \n",
    "            completion = y_to_completion(y[idx], itos)\n",
    "            completions.append(completion)\n",
    "            results.append(check_completion(completion))\n",
    "            \n",
    "    return results, completions"
   ]
  },
  {
   "cell_type": "markdown",
   "metadata": {
    "toc-hr-collapsed": true,
    "toc-nb-collapsed": true
   },
   "source": [
    "## Training loop"
   ]
  },
  {
   "cell_type": "code",
   "execution_count": 13,
   "metadata": {},
   "outputs": [],
   "source": [
    "# class TrainerConfig:\n",
    "#     # optimization parameters\n",
    "#     max_epochs = 10\n",
    "#     batch_size = 64\n",
    "#     learning_rate = 3e-4\n",
    "#     betas = (0.9, 0.95)\n",
    "#     grad_norm_clip = 1.0\n",
    "#     weight_decay = 0.1 # only applied on matmul weights\n",
    "#     # learning rate decay params: linear warmup followed by cosine decay to 10% of original\n",
    "#     lr_decay = False\n",
    "#     warmup_tokens = 375e6 # these two numbers come from the GPT-3 paper, but may not be good defaults elsewhere\n",
    "#     final_tokens = 260e9 # (at what point we reach 10% of original LR)\n",
    "#     # checkpoint settings\n",
    "#     ckpt_path = None\n",
    "#     num_workers = 0 # for DataLoader\n",
    "\n",
    "#     def __init__(self, **kwargs):\n",
    "#         for k,v in kwargs.items():\n",
    "#             setattr(self, k, v)\n",
    "\n",
    "# class Trainer:\n",
    "\n",
    "#     def __init__(self, model, train_dataset, test_dataset, config):\n",
    "#         self.model = model\n",
    "#         self.train_dataset = train_dataset\n",
    "#         self.test_dataset = test_dataset\n",
    "#         self.config = config\n",
    "\n",
    "#         # take over whatever gpus are on the system\n",
    "#         self.device = 'cpu'\n",
    "#         if torch.cuda.is_available():\n",
    "#             self.device = torch.cuda.current_device()\n",
    "#             self.model = torch.nn.DataParallel(self.model).to(self.device)\n",
    "\n",
    "#     def save_checkpoint(self):\n",
    "#         # DataParallel wrappers keep raw model object in .module attribute\n",
    "#         raw_model = self.model.module if hasattr(self.model, \"module\") else self.model\n",
    "#         logger.info(\"saving %s\", self.config.ckpt_path)\n",
    "#         torch.save(raw_model.state_dict(), self.config.ckpt_path + 'model.pt')\n",
    "\n",
    "#     def train(self, writer):\n",
    "#         model, config = self.model, self.config\n",
    "#         raw_model = model.module if hasattr(self.model, \"module\") else model\n",
    "#         optimizer = raw_model.configure_optimizers(config)\n",
    "\n",
    "#         def run_epoch(split):\n",
    "#             is_train = split == 'train'\n",
    "#             model.train(is_train)\n",
    "#             data = self.train_dataset if is_train else self.test_dataset\n",
    "#             loader = DataLoader(data, shuffle=True, pin_memory=True,\n",
    "#                                 batch_size=config.batch_size,\n",
    "#                                 num_workers=config.num_workers)\n",
    "\n",
    "#             losses = []\n",
    "#             pbar = tqdm(enumerate(loader), total=len(loader)) if is_train else enumerate(loader)\n",
    "#             for it, (x, y) in pbar:\n",
    "\n",
    "#                 # place data on the correct device\n",
    "#                 x = x.to(self.device)\n",
    "#                 y = y.to(self.device)\n",
    "\n",
    "#                 # forward the model\n",
    "#                 with torch.set_grad_enabled(is_train):\n",
    "#                     logits, loss = model(x, y)\n",
    "#                     loss = loss.mean() # collapse all losses if they are scattered on multiple gpus\n",
    "#                     losses.append(loss.item())\n",
    "\n",
    "#                 if is_train:\n",
    "\n",
    "#                     # backprop and update the parameters\n",
    "#                     model.zero_grad()\n",
    "#                     loss.backward()\n",
    "#                     torch.nn.utils.clip_grad_norm_(model.parameters(), config.grad_norm_clip)\n",
    "#                     optimizer.step()\n",
    "\n",
    "#                     # decay the learning rate based on our progress\n",
    "#                     if config.lr_decay:\n",
    "#                         self.tokens += (y >= 0).sum() # number of tokens processed this step (i.e. label is not -100)\n",
    "#                         if self.tokens < config.warmup_tokens:\n",
    "#                             # linear warmup\n",
    "#                             lr_mult = float(self.tokens) / float(max(1, config.warmup_tokens))\n",
    "#                         else:\n",
    "#                             # cosine learning rate decay\n",
    "#                             progress = float(self.tokens - config.warmup_tokens) / float(max(1, config.final_tokens - config.warmup_tokens))\n",
    "#                             lr_mult = max(0.1, 0.5 * (1.0 + math.cos(math.pi * progress)))\n",
    "#                         lr = config.learning_rate * lr_mult\n",
    "#                         for param_group in optimizer.param_groups:\n",
    "#                             param_group['lr'] = lr\n",
    "#                     else:\n",
    "#                         lr = config.learning_rate\n",
    "\n",
    "#                     # report progress\n",
    "#                     pbar.set_description(f\"epoch {epoch+1} iter {it}: train loss {loss.item():.5f}. lr {lr:e}\")\n",
    "\n",
    "#             if not is_train:\n",
    "#                 test_loss = float(np.mean(losses))\n",
    "#                 logger.info(\"test loss: %f\", test_loss)\n",
    "#                 return test_loss\n",
    "#             else:\n",
    "#                 train_loss = float(np.mean(losses))\n",
    "#                 return train_loss\n",
    "\n",
    "#         best_loss = float('inf')\n",
    "#         self.tokens = 0 # counter used for learning rate decay\n",
    "#         for epoch in range(config.max_epochs):\n",
    "\n",
    "#             train_loss = run_epoch('train')\n",
    "#             writer.add_scalar('loss/train_loss',train_loss,epoch)\n",
    "#             if self.test_dataset is not None:\n",
    "#                 test_loss = run_epoch('test')\n",
    "#                 writer.add_scalar('loss/test_loss',test_loss,epoch)\n",
    "                \n",
    "#                 MolFormulas = list(self.test_dataset.data['MolFormula'].unique())    \n",
    "#                 results, completions = check_model_output(model, MolFormulas, batch_size = 16)  \n",
    "#                 for i in ['success','MolFormula_failure','smiles_failure','full_failure']:\n",
    "#                     writer.add_scalar('results/'+i,results.count(i)/len(results),epoch)\n",
    "\n",
    "#             # supports early stopping based on the test loss, or just save always if no test set is provided\n",
    "#             good_model = self.test_dataset is None or test_loss < best_loss\n",
    "#             if self.config.ckpt_path is not None and good_model:\n",
    "#                 best_loss = test_loss\n",
    "#                 self.save_checkpoint()\n"
   ]
  },
  {
   "cell_type": "markdown",
   "metadata": {},
   "source": [
    "## Training"
   ]
  },
  {
   "cell_type": "code",
   "execution_count": null,
   "metadata": {},
   "outputs": [
    {
     "name": "stderr",
     "output_type": "stream",
     "text": [
      "epoch 1 iter 1782: train loss 0.26802. lr 6.000000e-04:   1%|▏         | 1782/134467 [02:49<3:49:09,  9.65it/s]"
     ]
    },
    {
     "name": "stdout",
     "output_type": "stream",
     "text": [
      "TRAINS Monitor: Could not detect iteration reporting, falling back to iterations as seconds-from-start\n"
     ]
    },
    {
     "name": "stderr",
     "output_type": "stream",
     "text": [
      "epoch 1 iter 134466: train loss 0.18863. lr 5.999635e-04: 100%|██████████| 134467/134467 [3:34:20<00:00, 10.46it/s]\n",
      "12/09/2020 12:43:39 - INFO - __main__ -   test loss: 0.190132\n",
      "12/09/2020 12:43:55 - INFO - __main__ -   saving /opt/data/train_dir/20201209_DF_gpt_smiles/\n",
      "epoch 2 iter 33838: train loss 0.18959. lr 5.999428e-04:  25%|██▌       | 33837/134467 [54:10<2:41:27, 10.39it/s]"
     ]
    }
   ],
   "source": [
    "\n",
    "# # # initialize a trainer instance and kick off training\n",
    "# tconf = TrainerConfig(max_epochs=max_epochs, batch_size=batch_size, learning_rate=6e-4,\n",
    "#                       lr_decay=True, warmup_tokens=512*20, final_tokens=200*len(train_dataset)*block_size,\n",
    "#                       num_workers=8, ckpt_path = experiment_path)\n",
    "# trainer = Trainer(model, train_dataset, test_dataset, tconf)\n",
    "# trainer.train(writer)"
   ]
  },
  {
   "cell_type": "markdown",
   "metadata": {},
   "source": [
    "## Test the model"
   ]
  },
  {
   "cell_type": "code",
   "execution_count": 80,
   "metadata": {},
   "outputs": [
    {
     "data": {
      "text/plain": [
       "'4.2'"
      ]
     },
     "execution_count": 80,
     "metadata": {},
     "output_type": "execute_result"
    }
   ],
   "source": [
    "str(round(4.21321321,1))"
   ]
  },
  {
   "cell_type": "code",
   "execution_count": 60,
   "metadata": {},
   "outputs": [],
   "source": [
    "from rdkit.Chem import PandasTools\n",
    "\n",
    "device = 'cpu'\n",
    "stop_token = '$'\n",
    "split_token = '&'"
   ]
  },
  {
   "cell_type": "code",
   "execution_count": 12,
   "metadata": {},
   "outputs": [
    {
     "data": {
      "text/plain": [
       "<All keys matched successfully>"
      ]
     },
     "execution_count": 12,
     "metadata": {},
     "output_type": "execute_result"
    }
   ],
   "source": [
    "model.load_state_dict(torch.load(experiment_path + 'model.pt'))"
   ]
  },
  {
   "cell_type": "code",
   "execution_count": 15,
   "metadata": {},
   "outputs": [],
   "source": [
    "model = model.to(device)"
   ]
  },
  {
   "cell_type": "code",
   "execution_count": 73,
   "metadata": {},
   "outputs": [
    {
     "data": {
      "text/plain": [
       "['success',\n",
       " 'MolFormula_failure',\n",
       " 'success',\n",
       " 'MolFormula_failure',\n",
       " 'MolFormula_failure',\n",
       " 'MolFormula_failure',\n",
       " 'MolFormula_failure',\n",
       " 'MolFormula_failure',\n",
       " 'MolFormula_failure',\n",
       " 'success',\n",
       " 'success',\n",
       " 'MolFormula_failure',\n",
       " 'success',\n",
       " 'success',\n",
       " 'MolFormula_failure',\n",
       " 'MolFormula_failure']"
      ]
     },
     "execution_count": 73,
     "metadata": {},
     "output_type": "execute_result"
    }
   ],
   "source": [
    "results"
   ]
  },
  {
   "cell_type": "code",
   "execution_count": 90,
   "metadata": {},
   "outputs": [
    {
     "name": "stdout",
     "output_type": "stream",
     "text": [
      "CPU times: user 28 s, sys: 184 ms, total: 28.2 s\n",
      "Wall time: 7.15 s\n"
     ]
    }
   ],
   "source": [
    "%%time\n",
    "results, completion = check_model_output(model,['C15H22N2O6', 'C16H32N4O2'],batch_size=16,temperature=2)\n",
    "df = completion_to_pandas(completion)"
   ]
  },
  {
   "cell_type": "code",
   "execution_count": 83,
   "metadata": {},
   "outputs": [
    {
     "data": {
      "text/html": [
       "<div>\n",
       "<style scoped>\n",
       "    .dataframe tbody tr th:only-of-type {\n",
       "        vertical-align: middle;\n",
       "    }\n",
       "\n",
       "    .dataframe tbody tr th {\n",
       "        vertical-align: top;\n",
       "    }\n",
       "\n",
       "    .dataframe thead th {\n",
       "        text-align: right;\n",
       "    }\n",
       "</style>\n",
       "<table border=\"1\" class=\"dataframe\">\n",
       "  <thead>\n",
       "    <tr style=\"text-align: right;\">\n",
       "      <th></th>\n",
       "      <th>MolFormulaInput</th>\n",
       "      <th>smiles</th>\n",
       "      <th>MolFormulaOutput</th>\n",
       "      <th>ROMol</th>\n",
       "    </tr>\n",
       "  </thead>\n",
       "  <tbody>\n",
       "    <tr>\n",
       "      <th>0</th>\n",
       "      <td>C15H22N2O6</td>\n",
       "      <td>Cc1[nH]oc(COC(=O)C[C@H](O)CC(=O)OC(C)(C)C)c1C#N</td>\n",
       "      <td>fail</td>\n",
       "      <td>None</td>\n",
       "    </tr>\n",
       "    <tr>\n",
       "      <th>1</th>\n",
       "      <td>C15H22N2O6</td>\n",
       "      <td>COCc1ccc(C[C@H](CO[C@H]2CNC(=O)C[C@@]2(O)COC)o1</td>\n",
       "      <td>fail</td>\n",
       "      <td>None</td>\n",
       "    </tr>\n",
       "    <tr>\n",
       "      <th>2</th>\n",
       "      <td>C15H22N2O6</td>\n",
       "      <td>NC(=O)[C@@H]1O[C@H]([C@@H]3COCCN3CC3(C(=O)O)[C...</td>\n",
       "      <td>C15H22N2O7</td>\n",
       "      <td><img data-content=\"rdkit/molecule\" src=\"data:image/png;base64,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\" alt=\"Mol\"/></td>\n",
       "    </tr>\n",
       "    <tr>\n",
       "      <th>3</th>\n",
       "      <td>C15H22N2O6</td>\n",
       "      <td>O=C(N[C@@H]1[C@@H](CO)CCCO1)C1=CC(N2CCOCC2)C(=...</td>\n",
       "      <td>C15H22N2O6</td>\n",
       "      <td><img data-content=\"rdkit/molecule\" src=\"data:image/png;base64,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\" alt=\"Mol\"/></td>\n",
       "    </tr>\n",
       "    <tr>\n",
       "      <th>4</th>\n",
       "      <td>C15H22N2O6</td>\n",
       "      <td>O=C(CCCON1C(=O)CCC1=O)N1CCC2(CC1)C[C@H](O)OC2</td>\n",
       "      <td>C16H24N2O6</td>\n",
       "      <td><img data-content=\"rdkit/molecule\" src=\"data:image/png;base64,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\" alt=\"Mol\"/></td>\n",
       "    </tr>\n",
       "  </tbody>\n",
       "</table>\n",
       "</div>"
      ],
      "text/plain": [
       "  MolFormulaInput                                             smiles  \\\n",
       "0      C15H22N2O6    Cc1[nH]oc(COC(=O)C[C@H](O)CC(=O)OC(C)(C)C)c1C#N   \n",
       "1      C15H22N2O6    COCc1ccc(C[C@H](CO[C@H]2CNC(=O)C[C@@]2(O)COC)o1   \n",
       "2      C15H22N2O6  NC(=O)[C@@H]1O[C@H]([C@@H]3COCCN3CC3(C(=O)O)[C...   \n",
       "3      C15H22N2O6  O=C(N[C@@H]1[C@@H](CO)CCCO1)C1=CC(N2CCOCC2)C(=...   \n",
       "4      C15H22N2O6      O=C(CCCON1C(=O)CCC1=O)N1CCC2(CC1)C[C@H](O)OC2   \n",
       "\n",
       "  MolFormulaOutput                                              ROMol  \n",
       "0             fail                                               None  \n",
       "1             fail                                               None  \n",
       "2       C15H22N2O7  <img data-content=\"rdkit/molecule\" src=\"data:i...  \n",
       "3       C15H22N2O6  <img data-content=\"rdkit/molecule\" src=\"data:i...  \n",
       "4       C16H24N2O6  <img data-content=\"rdkit/molecule\" src=\"data:i...  "
      ]
     },
     "execution_count": 83,
     "metadata": {},
     "output_type": "execute_result"
    }
   ],
   "source": [
    "df.head()"
   ]
  },
  {
   "cell_type": "code",
   "execution_count": 95,
   "metadata": {},
   "outputs": [
    {
     "data": {
      "text/plain": [
       "0.0"
      ]
     },
     "execution_count": 95,
     "metadata": {},
     "output_type": "execute_result"
    }
   ],
   "source": [
    "from sklearn.metrics import mean_squared_error\n",
    "\n",
    "# def check_df(df):\n",
    "#     df2 = df[df['MolFormulaOutput'] != 'fail']\n",
    "#     smiles_failure_ratio = (len(df) - len(df2))/len(df)\n",
    "#     MolFormula_success = sum(df2['MolFormulaInput'] == df2['MolFormulaOutput'])/len(df)\n",
    "#     MolFormula_failure = sum(df2['MolFormulaInput'] != df2['MolFormulaOutput'])/len(df)\n",
    "#     return {'smiles_failure_ratio':smiles_failure_ratio, \n",
    "#             'MolFormula_failure':MolFormula_failure,\n",
    "#            'MolFormula_success':MolFormula_success}\n",
    "check_df(df)['logp_mse']"
   ]
  },
  {
   "cell_type": "code",
   "execution_count": 98,
   "metadata": {},
   "outputs": [
    {
     "data": {
      "text/plain": [
       "0"
      ]
     },
     "execution_count": 98,
     "metadata": {},
     "output_type": "execute_result"
    }
   ],
   "source": [
    "1000 % 10\n"
   ]
  },
  {
   "cell_type": "code",
   "execution_count": 47,
   "metadata": {},
   "outputs": [
    {
     "name": "stdout",
     "output_type": "stream",
     "text": [
      "C25H38O6\n",
      "5.175400000000005\n"
     ]
    },
    {
     "data": {
      "image/png": "[encoded data removed]",
      "text/plain": [
       "<rdkit.Chem.rdchem.Mol at 0x7f699059e580>"
      ]
     },
     "execution_count": 47,
     "metadata": {},
     "output_type": "execute_result"
    }
   ],
   "source": [
    "from rdkit.Chem import AllChem, Descriptors\n",
    "smiles = 'CCOC(=O)c1ccc(O[C@H]2CCC[C@](C)(OCC)CC2)c(OCC2CCOCC2)c1'\n",
    "mol = Chem.MolFromSmiles(smiles)\n",
    "print(CalcMolFormula(mol))\n",
    "print(Descriptors.MolLogP(mol))\n",
    "mol"
   ]
  }
 ],
 "metadata": {
  "kernelspec": {
   "display_name": "pytorch_smiles",
   "language": "python",
   "name": "pytorch_smiles"
  },
  "language_info": {
   "codemirror_mode": {
    "name": "ipython",
    "version": 3
   },
   "file_extension": ".py",
   "mimetype": "text/x-python",
   "name": "python",
   "nbconvert_exporter": "python",
   "pygments_lexer": "ipython3",
   "version": "3.8.5"
  }
 },
 "nbformat": 4,
 "nbformat_minor": 4
}
