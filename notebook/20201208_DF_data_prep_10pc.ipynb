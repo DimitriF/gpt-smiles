{
 "cells": [
  {
   "cell_type": "markdown",
   "metadata": {},
   "source": [
    "Generate smiles string with minGPT\n",
    "* import\n",
    "* read dataset with smiles strings\n",
    "    * need to create a meta file somehow ?\n",
    "        * smiles itself\n",
    "        * raw formula\n",
    "        * properties\n",
    "        * train/test split, if not already available\n",
    "    * filter molecules based on stuff once we have the meta information\n",
    "* EDA:\n",
    "    * once the meta is here\n",
    "* data loader\n",
    "    * tokeniser ?\n",
    "    * stoi/itos\n",
    "    * phase ?\n",
    "* model\n",
    "    * straightforward for the moment\n",
    "    * later: with properties, will need to cat them with embeddings somehow\n",
    "* training loop:\n",
    "    * straighforward from minGPT\n",
    "    * \n",
    "* exploitation\n",
    "    * need helpers functions\n",
    "    * look for ratio of valid smiles string generated"
   ]
  },
  {
   "cell_type": "markdown",
   "metadata": {},
   "source": [
    "## Import"
   ]
  },
  {
   "cell_type": "code",
   "execution_count": 4,
   "metadata": {},
   "outputs": [],
   "source": [
    "from rdkit import Chem\n",
    "import pandas as pd\n",
    "import os\n",
    "from rdkit.Chem.rdMolDescriptors import CalcMolFormula\n",
    "import string"
   ]
  },
  {
   "cell_type": "code",
   "execution_count": 3,
   "metadata": {},
   "outputs": [],
   "source": [
    "def CHNO_only(mol):\n",
    "    for atom in mol.GetAtoms():\n",
    "        symb = atom.GetSymbol()\n",
    "        if symb not in ['C','H','N','O']:\n",
    "            return False\n",
    "    return True\n",
    "\n",
    "def info_from_smiles(smiles):\n",
    "    mol = Chem.MolFromSmiles(smiles)\n",
    "    n_atoms = mol.GetNumAtoms()\n",
    "    MolFormula = CalcMolFormula(mol)\n",
    "    l = len(smiles)\n",
    "    CHNO = CHNO_only(mol)\n",
    "    return pd.Series([n_atoms,MolFormula,l,CHNO])#pd.DataFrame({'n_atoms':n_atoms,'MolFormula':MolFormula,'l':l}, index=[0])\n"
   ]
  },
  {
   "cell_type": "code",
   "execution_count": 2,
   "metadata": {},
   "outputs": [],
   "source": [
    "raw_path = '/home/teleport/perso/raw/'\n",
    "process_path = '/home/teleport/perso/process_10pc/'\n",
    "data_path = '/home/teleport/perso/'\n",
    "\n",
    "if not os.path.exists(process_path):\n",
    "    os.mkdir(process_path)"
   ]
  },
  {
   "cell_type": "markdown",
   "metadata": {},
   "source": [
    "## Apply the function to all files"
   ]
  },
  {
   "cell_type": "code",
   "execution_count": null,
   "metadata": {
    "collapsed": true,
    "jupyter": {
     "outputs_hidden": true
    }
   },
   "outputs": [
    {
     "name": "stdout",
     "output_type": "stream",
     "text": [
      "KCCA.txt\n",
      "HDCD.txt\n",
      "ECBB.txt\n",
      "BIAC.txt\n",
      "GIAC.txt\n",
      "EGBA.txt\n",
      "GACB.txt\n",
      "JIBD.txt\n"
     ]
    },
    {
     "name": "stderr",
     "output_type": "stream",
     "text": [
      "/home/teleport/.conda/envs/pytorch_smiles/lib/python3.8/site-packages/IPython/core/interactiveshell.py:3145: DtypeWarning: Columns (8) have mixed types.Specify dtype option on import or set low_memory=False.\n",
      "  has_raised = await self.run_ast_nodes(code_ast.body, cell_name,\n"
     ]
    },
    {
     "name": "stdout",
     "output_type": "stream",
     "text": [
      "KKCD.txt\n",
      "KIAD.txt\n",
      "FIAA.txt\n",
      "CABD.txt\n",
      "GGBC.txt\n",
      "GAAC.txt\n",
      "FHAD.txt\n",
      "HCCD.txt\n",
      "BJAB.txt\n",
      "EECC.txt\n",
      "IKCD.txt\n",
      "IDBB.txt\n",
      "DJAA.txt\n",
      "JFBB.txt\n",
      "IFAD.txt\n",
      "BJAA.txt\n",
      "FHBB.txt\n",
      "IECB.txt\n",
      "DFAB.txt\n",
      "FAAB.txt\n",
      "ADCC.txt\n",
      "FFAA.txt\n",
      "IFCD.txt\n",
      "BBBD.txt\n",
      "CDAC.txt\n",
      "EKAA.txt\n",
      "ADBA.txt\n",
      "FKAA.txt\n",
      "IEAB.txt\n",
      "JEAC.txt\n",
      "HBCD.txt\n",
      "JJBD.txt\n",
      "FGBB.txt\n",
      "JDCB.txt\n",
      "JHBC.txt\n",
      "BICB.txt\n",
      "HDAD.txt\n",
      "KJAD.txt\n",
      "BIAD.txt\n",
      "HICD.txt\n",
      "DGBC.txt\n",
      "KJCB.txt\n",
      "DDCD.txt\n",
      "HAAD.txt\n",
      "FACA.txt\n",
      "ECBA.txt\n",
      "AIAD.txt\n",
      "KFAD.txt\n",
      "GDAB.txt\n",
      "EFAD.txt\n",
      "EDADaf\n",
      "JDBD.txt\n",
      "JECD.txt\n",
      "HDBB.txt\n",
      "CKCD.txt\n",
      "CFAA.txt\n",
      "GECD.txt\n",
      "HECD.txt\n",
      "BEAD.txt\n",
      "EGBB.txt\n",
      "HCAB.txt\n",
      "IAAA.txt\n",
      "JCBC.txt\n",
      "EDBD.txt\n",
      "HGAB.txt\n",
      "DKBD.txt\n",
      "FJAA.txt\n",
      "FIAD.txt\n",
      "GBCB.txt\n",
      "HHAB.txt\n",
      "HJAB.txt\n",
      "GGAC.txt\n",
      "GCBA.txt\n",
      "JKBA.txt\n",
      "KICD.txt\n",
      "JJAD.txt\n",
      "CGBB.txt\n",
      "GHAC.txt\n",
      "JICA.txt\n",
      "CGBA.txt\n",
      "BIBB.txt\n",
      "AHAC.txt\n",
      "IBCD.txt\n",
      "DDBB.txt\n",
      "AACB.txt\n",
      "EJBC.txt\n",
      "BCCB.txt\n",
      "IDAA.txt\n",
      "EAAB.txt\n",
      "HIBC.txt\n",
      "FCAB.txt\n",
      "ECAA.txt\n",
      "CFCB.txt\n",
      "DDAB.txt\n",
      "EGCA.txt\n",
      "FJBD.txt\n",
      "BFBC.txt\n",
      "BICC.txt\n",
      "ACCD.txt\n",
      "HCAC.txt\n",
      "FCBD.txt\n",
      "EHAD.txt\n",
      "BBBB.txt\n",
      "CFBB.txt\n",
      "IHCB.txt\n",
      "BCBC.txt\n",
      "ABBB.txt\n",
      "ABAC.txt\n",
      "BAAD.txt\n",
      "AEBD.txt\n",
      "KHAD.txt\n",
      "BEBB.txt\n",
      "HJBD.txt\n",
      "IDCD.txt\n",
      "GHBA.txt\n",
      "IEAA.txt\n",
      "IBCA.txt\n",
      "JFBD.txt\n",
      "CDBC.txt\n",
      "HABA.txt\n",
      "KGAA.txt\n",
      "GDCA.txt\n",
      "GKAD.txt\n",
      "DBBD.txt\n",
      "CFCC.txt\n",
      "JCBD.txt\n",
      "GJAC.txt\n",
      "EEAC.txt\n",
      "FAAA.txt\n",
      "EJAC.txt\n",
      "ECAC.txt\n",
      "KCBC.txt\n",
      "CEAC.txt\n",
      "DIBB.txt\n",
      "FKBB.txt\n",
      "BKBB.txt\n",
      "ADAC.txt\n",
      "EHBA.txt\n",
      "CBBA.txt\n",
      "ECBC.txt\n",
      "BKBA.txt\n",
      "CBAC.txt\n",
      "EFCB.txt\n",
      "CIAC.txt\n",
      "GGAD.txt\n",
      "KABA.txt\n",
      "KDAC.txt\n",
      "DABA.txt\n",
      "KBBA.txt\n",
      "IGCD.txt\n",
      "JGAD.txt\n",
      "HBAA.txt\n",
      "JKCA.txt\n",
      "AHBA.txt\n",
      "BFCA.txt\n",
      "AFBD.txt\n",
      "EEAB.txt\n",
      "EDADag\n",
      "DIBA.txt\n",
      "GGBD.txt\n",
      "CDCC.txt\n",
      "AEAA.txt\n",
      "EIAB.txt\n",
      "IGAB.txt\n",
      "IFAB.txt\n",
      "CKBB.txt\n",
      "HEBD.txt\n",
      "FBCD.txt\n",
      "CGCA.txt\n",
      "BDAD.txt\n",
      "EAAC.txt\n",
      "KEAC.txt\n",
      "CICD.txt\n",
      "HHCD.txt\n",
      "EDADab\n",
      "EKCD.txt\n",
      "GAAD.txt\n",
      "DFBC.txt\n",
      "IKAB.txt\n",
      "FFBD.txt\n",
      "IHBA.txt\n",
      "FIAB.txt\n",
      "KABD.txt\n",
      "DJAC.txt\n",
      "IJCB.txt\n",
      "FCAA.txt\n",
      "BKCB.txt\n",
      "EDADaa\n",
      "GFBB.txt\n",
      "CJBB.txt\n",
      "EJAD.txt\n",
      "IDCB.txt\n",
      "KDAA.txt\n",
      "HDAB.txt\n",
      "IJCC.txt\n",
      "JDBA.txt\n",
      "CICB.txt\n",
      "BABC.txt\n",
      "CACA.txt\n",
      "GJCD.txt\n",
      "KJCA.txt\n",
      "KHAA.txt\n",
      "JEAA.txt\n",
      "EEBB.txt\n",
      "FCAD.txt\n",
      "CIAB.txt\n",
      "JFAC.txt\n",
      "DCCD.txt\n",
      "BJBB.txt\n",
      "ECCD.txt\n",
      "KFAB.txt\n",
      "DKBB.txt\n",
      "AIAA.txt\n",
      "ICAD.txt\n",
      "KDAD.txt\n",
      "HBCA.txt\n",
      "GEAB.txt\n",
      "GECB.txt\n",
      "EECB.txt\n",
      "ACAD.txt\n",
      "DGCA.txt\n",
      "IIAA.txt\n",
      "KEAD.txt\n",
      "CIBD.txt\n",
      "JDAA.txt\n",
      "DAAB.txt\n",
      "DCAD.txt\n",
      "BIAB.txt\n",
      "HDAA.txt\n",
      "JEBB.txt\n",
      "BEAC.txt\n",
      "EFAA.txt\n",
      "HIAA.txt\n",
      "CFBA.txt\n",
      "DEBC.txt\n",
      "CGCC.txt\n",
      "ACCA.txt\n",
      "DIAA.txt\n",
      "CKCB.txt\n",
      "DFAA.txt\n",
      "JHCB.txt\n",
      "DJCD.txt\n",
      "DGAA.txt\n",
      "AEAB.txt\n",
      "EBCA.txt\n",
      "CGBC.txt\n",
      "JDCC.txt\n",
      "EBBD.txt\n",
      "DGAD.txt\n",
      "FABA.txt\n",
      "EGCB.txt\n",
      "IDBD.txt\n",
      "CGAA.txt\n",
      "KKBA.txt\n",
      "GGCD.txt\n",
      "KHCD.txt\n",
      "HJAC.txt\n",
      "GCAA.txt\n",
      "GFAB.txt\n",
      "GICD.txt\n",
      "EICD.txt\n",
      "IDAC.txt\n",
      "GICB.txt\n",
      "DJAB.txt\n",
      "KHBD.txt\n",
      "CACB.txt\n",
      "GACD.txt\n",
      "HKAA.txt\n",
      "DIBC.txt\n",
      "CHBB.txt\n",
      "EFBB.txt\n",
      "FJCA.txt\n",
      "DICB.txt\n",
      "FBBD.txt\n",
      "HDBD.txt\n",
      "FKCD.txt\n",
      "FGAD.txt\n",
      "AFCB.txt\n",
      "JFAA.txt\n",
      "KCCB.txt\n",
      "JEBA.txt\n",
      "IFAC.txt\n",
      "HEAD.txt\n",
      "GCAB.txt\n",
      "EHAB.txt\n",
      "CJBD.txt\n",
      "AIBB.txt\n",
      "HFCA.txt\n",
      "BAAC.txt\n",
      "JABB.txt\n",
      "BJBD.txt\n",
      "IKCA.txt\n",
      "JGAB.txt\n",
      "IKCB.txt\n",
      "GIAD.txt\n",
      "EGBD.txt\n",
      "IIBB.txt\n",
      "GHAB.txt\n",
      "JHCD.txt\n",
      "GIAB.txt\n",
      "GKCD.txt\n",
      "IGCB.txt\n",
      "DKCA.txt\n",
      "FACD.txt\n",
      "BBAB.txt\n",
      "HGBB.txt\n",
      "BGBB.txt\n",
      "IHAD.txt\n",
      "DHBA.txt\n",
      "ACAA.txt\n",
      "GKAB.txt\n",
      "KKCC.txt\n",
      "BBCA.txt\n",
      "BGCD.txt\n",
      "IGBB.txt\n",
      "AFBB.txt\n",
      "EDADae\n",
      "BFAC.txt\n",
      "JDAD.txt\n",
      "CCAC.txt\n",
      "IGAD.txt\n"
     ]
    }
   ],
   "source": [
    "# for i in os.listdir(raw_path):    \n",
    "#     print(i)\n",
    "#     data = pd.read_csv(raw_path + i, sep = '\\t')\n",
    "#     data = data[['smiles', 'mwt', 'logp']]\n",
    "#     data.to_csv(raw_path + i,index = False)"
   ]
  },
  {
   "cell_type": "code",
   "execution_count": null,
   "metadata": {
    "collapsed": true,
    "jupyter": {
     "outputs_hidden": true
    }
   },
   "outputs": [
    {
     "name": "stdout",
     "output_type": "stream",
     "text": [
      "GGBC.txt\n",
      "2\n",
      "0\n",
      "GAAC.txt\n",
      "1\n",
      "0\n",
      "EECC.txt\n",
      "2\n",
      "0\n",
      "ADCC.txt\n",
      "3\n",
      "0\n",
      "JEAC.txt\n",
      "5\n",
      "0\n",
      "JHBC.txt\n",
      "1\n",
      "0\n",
      "JCBC.txt\n",
      "1\n",
      "0\n",
      "KICD.txt\n",
      "3\n",
      "0\n",
      "EJBC.txt\n",
      "2\n",
      "0\n",
      "HIBC.txt\n",
      "3\n",
      "0\n",
      "BICC.txt\n",
      "1\n",
      "0\n",
      "HCAC.txt\n",
      "1\n",
      "0\n",
      "BCBC.txt\n",
      "1\n",
      "0\n",
      "CFCC.txt\n",
      "2\n",
      "0\n",
      "KCBC.txt\n",
      "1\n",
      "0\n",
      "ECBC.txt\n",
      "1\n",
      "0\n",
      "CDCC.txt\n",
      "2\n",
      "0\n",
      "EAAC.txt\n",
      "1\n",
      "0\n",
      "KABD.txt\n",
      "1\n",
      "0\n",
      "IJCC.txt\n",
      "1\n",
      "0\n",
      "BABC.txt\n",
      "1\n",
      "0\n",
      "DEBC.txt\n",
      "3\n",
      "0\n",
      "CGCC.txt\n",
      "2\n",
      "0\n",
      "CGBC.txt\n",
      "4\n",
      "0\n",
      "JDCC.txt\n",
      "1\n",
      "0\n",
      "DIBC.txt\n",
      "2\n",
      "0\n",
      "BAAC.txt\n",
      "5\n",
      "0\n",
      "KKCC.txt\n",
      "1\n",
      "0\n",
      "EHBC.txt\n",
      "1\n",
      "0\n",
      "CIBC.txt\n",
      "1\n",
      "0\n",
      "CACC.txt\n",
      "1\n",
      "0\n",
      "AIAC.txt\n",
      "2\n",
      "0\n",
      "BGBC.txt\n",
      "3\n",
      "0\n",
      "BKCA.txt\n",
      "5\n",
      "0\n",
      "FKBC.txt\n",
      "1\n",
      "0\n",
      "JKBC.txt\n",
      "2\n",
      "0\n",
      "AGBD.txt\n",
      "3\n",
      "0\n",
      "AKAA.txt\n",
      "1\n",
      "0\n",
      "EEAD.txt\n"
     ]
    },
    {
     "name": "stderr",
     "output_type": "stream",
     "text": [
      "/home/teleport/.conda/envs/pytorch_smiles/lib/python3.8/site-packages/IPython/core/interactiveshell.py:3145: DtypeWarning: Columns (8) have mixed types.Specify dtype option on import or set low_memory=False.\n",
      "  has_raised = await self.run_ast_nodes(code_ast.body, cell_name,\n"
     ]
    },
    {
     "name": "stdout",
     "output_type": "stream",
     "text": [
      "35918783\n",
      "3591878\n",
      "GGBB.txt\n",
      "2849\n",
      "285\n",
      "JDBC.txt\n",
      "1\n",
      "0\n",
      "ADCB.txt\n",
      "387\n",
      "39\n",
      "CFAD.txt\n"
     ]
    },
    {
     "name": "stderr",
     "output_type": "stream",
     "text": [
      "/home/teleport/.conda/envs/pytorch_smiles/lib/python3.8/site-packages/IPython/core/interactiveshell.py:3145: DtypeWarning: Columns (8) have mixed types.Specify dtype option on import or set low_memory=False.\n",
      "  has_raised = await self.run_ast_nodes(code_ast.body, cell_name,\n"
     ]
    },
    {
     "name": "stdout",
     "output_type": "stream",
     "text": [
      "11067368\n",
      "1106737\n",
      "AJAA.txt\n",
      "23\n",
      "2\n",
      "AGAB.txt\n",
      "2477\n",
      "248\n",
      "EAAA.txt\n",
      "1271\n",
      "127\n",
      "KHAC.txt\n",
      "38\n",
      "4\n",
      "KKBC.txt\n",
      "4\n",
      "0\n",
      "EFAB.txt\n",
      "72388\n",
      "7239\n",
      "DHCB.txt\n",
      "822\n",
      "82\n",
      "FCCD.txt\n",
      "27817\n",
      "2782\n",
      "DFCB.txt\n",
      "725\n",
      "72\n",
      "BGBD.txt\n",
      "7966\n",
      "797\n",
      "EACD.txt\n",
      "93\n",
      "9\n",
      "HJAD.txt\n"
     ]
    },
    {
     "name": "stderr",
     "output_type": "stream",
     "text": [
      "/home/teleport/.conda/envs/pytorch_smiles/lib/python3.8/site-packages/IPython/core/interactiveshell.py:3145: DtypeWarning: Columns (8) have mixed types.Specify dtype option on import or set low_memory=False.\n",
      "  has_raised = await self.run_ast_nodes(code_ast.body, cell_name,\n"
     ]
    },
    {
     "name": "stdout",
     "output_type": "stream",
     "text": [
      "8264522\n",
      "826452\n",
      "DDAD.txt\n"
     ]
    },
    {
     "name": "stderr",
     "output_type": "stream",
     "text": [
      "/home/teleport/.conda/envs/pytorch_smiles/lib/python3.8/site-packages/IPython/core/interactiveshell.py:3145: DtypeWarning: Columns (8) have mixed types.Specify dtype option on import or set low_memory=False.\n",
      "  has_raised = await self.run_ast_nodes(code_ast.body, cell_name,\n"
     ]
    },
    {
     "name": "stdout",
     "output_type": "stream",
     "text": [
      "28707924\n",
      "2870792\n"
     ]
    }
   ],
   "source": [
    "for i in os.listdir(raw_path):\n",
    "    if not os.path.exists(process_path + i):\n",
    "        print(i)\n",
    "\n",
    "        data = pd.read_csv(raw_path + i)\n",
    "        print(len(data))\n",
    "        data = data.sample(frac=0.1, replace=False, random_state=1)\n",
    "        print(len(data))\n",
    "        if len(data) > 0:\n",
    "            data = data[['smiles', 'mwt', 'logp']]\n",
    "            data['has_non_CHNO'] = data['smiles'].str.contains('Br|I|P|F|Cl|S|s|p',regex=True)\n",
    "            data = data[(data['has_non_CHNO'] == False)].reset_index()\n",
    "            data = data[['smiles', 'mwt', 'logp']]\n",
    "            meta = data['smiles'].apply(info_from_smiles)\n",
    "            meta.columns = ['n_atoms','MolFormula','l','CHNO']\n",
    "\n",
    "            data = pd.concat([data, meta], axis=1)\n",
    "\n",
    "            data.to_csv(process_path + i)"
   ]
  },
  {
   "cell_type": "markdown",
   "metadata": {},
   "source": [
    "## combine the files"
   ]
  },
  {
   "cell_type": "code",
   "execution_count": 6,
   "metadata": {},
   "outputs": [],
   "source": [
    "data = [pd.read_csv(process_path + i) for i in os.listdir(process_path)]\n",
    "data = pd.concat(data)\n",
    "data = data[['smiles', 'mwt', 'logp','n_atoms','MolFormula','l','CHNO']]"
   ]
  },
  {
   "cell_type": "code",
   "execution_count": 7,
   "metadata": {},
   "outputs": [],
   "source": [
    "data = data[(data['CHNO'] == True)].reset_index()"
   ]
  },
  {
   "cell_type": "code",
   "execution_count": 8,
   "metadata": {},
   "outputs": [],
   "source": [
    "\n",
    "data = data[(data['mwt'] <= 500)]#.reset_index()\n",
    "data = data[(data['mwt'] > 100)]"
   ]
  },
  {
   "cell_type": "code",
   "execution_count": 9,
   "metadata": {},
   "outputs": [],
   "source": [
    "data.to_csv(data_path + '/10pc_cleaned.csv',index = False)"
   ]
  },
  {
   "cell_type": "markdown",
   "metadata": {},
   "source": [
    "## EDA with what we have now"
   ]
  },
  {
   "cell_type": "code",
   "execution_count": 7,
   "metadata": {},
   "outputs": [],
   "source": [
    "data = pd.read_csv(data_path + '/10pc_cleaned.csv')"
   ]
  },
  {
   "cell_type": "code",
   "execution_count": 67,
   "metadata": {},
   "outputs": [],
   "source": [
    "data['l_MolFormula'] = data['MolFormula'].apply(len)"
   ]
  },
  {
   "cell_type": "code",
   "execution_count": 68,
   "metadata": {},
   "outputs": [],
   "source": [
    "data['l_chunk'] = data['l'] + data['l_MolFormula'] + 2"
   ]
  },
  {
   "cell_type": "code",
   "execution_count": 70,
   "metadata": {},
   "outputs": [
    {
     "data": {
      "text/plain": [
       "140.0"
      ]
     },
     "execution_count": 70,
     "metadata": {},
     "output_type": "execute_result"
    }
   ],
   "source": [
    "max(data['l_chunk'])"
   ]
  },
  {
   "cell_type": "code",
   "execution_count": 10,
   "metadata": {},
   "outputs": [
    {
     "data": {
      "text/html": [
       "<div>\n",
       "<style scoped>\n",
       "    .dataframe tbody tr th:only-of-type {\n",
       "        vertical-align: middle;\n",
       "    }\n",
       "\n",
       "    .dataframe tbody tr th {\n",
       "        vertical-align: top;\n",
       "    }\n",
       "\n",
       "    .dataframe thead th {\n",
       "        text-align: right;\n",
       "    }\n",
       "</style>\n",
       "<table border=\"1\" class=\"dataframe\">\n",
       "  <thead>\n",
       "    <tr style=\"text-align: right;\">\n",
       "      <th></th>\n",
       "      <th>index</th>\n",
       "      <th>smiles</th>\n",
       "      <th>mwt</th>\n",
       "      <th>logp</th>\n",
       "      <th>n_atoms</th>\n",
       "      <th>MolFormula</th>\n",
       "      <th>l</th>\n",
       "      <th>CHNO</th>\n",
       "    </tr>\n",
       "  </thead>\n",
       "  <tbody>\n",
       "    <tr>\n",
       "      <th>8</th>\n",
       "      <td>0</td>\n",
       "      <td>O=C(CCCC(=O)N1CC(=O)Nc2ccccc21)NCCc1cc(O)c(O)cc1O</td>\n",
       "      <td>413.430</td>\n",
       "      <td>1.618</td>\n",
       "      <td>30.0</td>\n",
       "      <td>C21H23N3O6</td>\n",
       "      <td>49.0</td>\n",
       "      <td>True</td>\n",
       "    </tr>\n",
       "    <tr>\n",
       "      <th>9</th>\n",
       "      <td>1</td>\n",
       "      <td>CC(C)(C)OC(=O)N1CCC2(CC1)CN(Cc1c(O)cc(O)cc1O)C...</td>\n",
       "      <td>407.467</td>\n",
       "      <td>1.505</td>\n",
       "      <td>29.0</td>\n",
       "      <td>C20H29N3O6</td>\n",
       "      <td>53.0</td>\n",
       "      <td>True</td>\n",
       "    </tr>\n",
       "    <tr>\n",
       "      <th>10</th>\n",
       "      <td>2</td>\n",
       "      <td>COc1cc(CN2CCN(C(=O)[C@H]3COc4ccccc4O3)CC2)c(O)...</td>\n",
       "      <td>414.458</td>\n",
       "      <td>1.894</td>\n",
       "      <td>30.0</td>\n",
       "      <td>C22H26N2O6</td>\n",
       "      <td>53.0</td>\n",
       "      <td>True</td>\n",
       "    </tr>\n",
       "    <tr>\n",
       "      <th>11</th>\n",
       "      <td>3</td>\n",
       "      <td>COc1ccc(N2CCN(CCN3C(=O)N[C@@H]([C@@H]4CCCOC4)C...</td>\n",
       "      <td>402.495</td>\n",
       "      <td>1.164</td>\n",
       "      <td>29.0</td>\n",
       "      <td>C21H30N4O4</td>\n",
       "      <td>57.0</td>\n",
       "      <td>True</td>\n",
       "    </tr>\n",
       "    <tr>\n",
       "      <th>12</th>\n",
       "      <td>4</td>\n",
       "      <td>CN1CCOc2cc(CN3C[C@@H]4COC[C@@H](C(=O)N5CCCCO5)...</td>\n",
       "      <td>401.507</td>\n",
       "      <td>1.764</td>\n",
       "      <td>29.0</td>\n",
       "      <td>C22H31N3O4</td>\n",
       "      <td>61.0</td>\n",
       "      <td>True</td>\n",
       "    </tr>\n",
       "    <tr>\n",
       "      <th>...</th>\n",
       "      <td>...</td>\n",
       "      <td>...</td>\n",
       "      <td>...</td>\n",
       "      <td>...</td>\n",
       "      <td>...</td>\n",
       "      <td>...</td>\n",
       "      <td>...</td>\n",
       "      <td>...</td>\n",
       "    </tr>\n",
       "    <tr>\n",
       "      <th>1219120</th>\n",
       "      <td>1068</td>\n",
       "      <td>Cc1nn(C)c(C)c1CN(C(=O)CN1C(=O)NC2(CCCCC2)C1=O)...</td>\n",
       "      <td>387.484</td>\n",
       "      <td>1.783</td>\n",
       "      <td>28.0</td>\n",
       "      <td>C20H29N5O3</td>\n",
       "      <td>51.0</td>\n",
       "      <td>True</td>\n",
       "    </tr>\n",
       "    <tr>\n",
       "      <th>1219121</th>\n",
       "      <td>1069</td>\n",
       "      <td>CN(C)c1ccc(NC(=O)CN2[C@H]3CC[C@H]2CC(O)(c2nccn...</td>\n",
       "      <td>383.496</td>\n",
       "      <td>1.939</td>\n",
       "      <td>28.0</td>\n",
       "      <td>C21H29N5O2</td>\n",
       "      <td>55.0</td>\n",
       "      <td>True</td>\n",
       "    </tr>\n",
       "    <tr>\n",
       "      <th>1219122</th>\n",
       "      <td>1070</td>\n",
       "      <td>N=C(NCCC[C@H](NC(=O)c1ccccc1)C(=O)O)NC(=O)c1cc...</td>\n",
       "      <td>382.420</td>\n",
       "      <td>1.604</td>\n",
       "      <td>28.0</td>\n",
       "      <td>C20H22N4O4</td>\n",
       "      <td>50.0</td>\n",
       "      <td>True</td>\n",
       "    </tr>\n",
       "    <tr>\n",
       "      <th>1219123</th>\n",
       "      <td>1071</td>\n",
       "      <td>CN1CCC[C@@H](c2nnc3n2CCN(C(=O)CCCc2ccccn2)CC3)C1</td>\n",
       "      <td>382.512</td>\n",
       "      <td>1.890</td>\n",
       "      <td>28.0</td>\n",
       "      <td>C21H30N6O</td>\n",
       "      <td>48.0</td>\n",
       "      <td>True</td>\n",
       "    </tr>\n",
       "    <tr>\n",
       "      <th>1219124</th>\n",
       "      <td>1072</td>\n",
       "      <td>Cc1ccc(C)c(OC[C@@H](O)Cn2nnc(-c3ccc(C(N)=O)cc3...</td>\n",
       "      <td>381.436</td>\n",
       "      <td>1.804</td>\n",
       "      <td>28.0</td>\n",
       "      <td>C20H23N5O3</td>\n",
       "      <td>53.0</td>\n",
       "      <td>True</td>\n",
       "    </tr>\n",
       "  </tbody>\n",
       "</table>\n",
       "<p>1219026 rows × 8 columns</p>\n",
       "</div>"
      ],
      "text/plain": [
       "         index                                             smiles      mwt  \\\n",
       "8            0  O=C(CCCC(=O)N1CC(=O)Nc2ccccc21)NCCc1cc(O)c(O)cc1O  413.430   \n",
       "9            1  CC(C)(C)OC(=O)N1CCC2(CC1)CN(Cc1c(O)cc(O)cc1O)C...  407.467   \n",
       "10           2  COc1cc(CN2CCN(C(=O)[C@H]3COc4ccccc4O3)CC2)c(O)...  414.458   \n",
       "11           3  COc1ccc(N2CCN(CCN3C(=O)N[C@@H]([C@@H]4CCCOC4)C...  402.495   \n",
       "12           4  CN1CCOc2cc(CN3C[C@@H]4COC[C@@H](C(=O)N5CCCCO5)...  401.507   \n",
       "...        ...                                                ...      ...   \n",
       "1219120   1068  Cc1nn(C)c(C)c1CN(C(=O)CN1C(=O)NC2(CCCCC2)C1=O)...  387.484   \n",
       "1219121   1069  CN(C)c1ccc(NC(=O)CN2[C@H]3CC[C@H]2CC(O)(c2nccn...  383.496   \n",
       "1219122   1070  N=C(NCCC[C@H](NC(=O)c1ccccc1)C(=O)O)NC(=O)c1cc...  382.420   \n",
       "1219123   1071   CN1CCC[C@@H](c2nnc3n2CCN(C(=O)CCCc2ccccn2)CC3)C1  382.512   \n",
       "1219124   1072  Cc1ccc(C)c(OC[C@@H](O)Cn2nnc(-c3ccc(C(N)=O)cc3...  381.436   \n",
       "\n",
       "          logp  n_atoms  MolFormula     l  CHNO  \n",
       "8        1.618     30.0  C21H23N3O6  49.0  True  \n",
       "9        1.505     29.0  C20H29N3O6  53.0  True  \n",
       "10       1.894     30.0  C22H26N2O6  53.0  True  \n",
       "11       1.164     29.0  C21H30N4O4  57.0  True  \n",
       "12       1.764     29.0  C22H31N3O4  61.0  True  \n",
       "...        ...      ...         ...   ...   ...  \n",
       "1219120  1.783     28.0  C20H29N5O3  51.0  True  \n",
       "1219121  1.939     28.0  C21H29N5O2  55.0  True  \n",
       "1219122  1.604     28.0  C20H22N4O4  50.0  True  \n",
       "1219123  1.890     28.0   C21H30N6O  48.0  True  \n",
       "1219124  1.804     28.0  C20H23N5O3  53.0  True  \n",
       "\n",
       "[1219026 rows x 8 columns]"
      ]
     },
     "execution_count": 10,
     "metadata": {},
     "output_type": "execute_result"
    }
   ],
   "source": [
    "data"
   ]
  },
  {
   "cell_type": "code",
   "execution_count": 8,
   "metadata": {},
   "outputs": [
    {
     "data": {
      "text/plain": [
       "<AxesSubplot:xlabel='l', ylabel='mwt'>"
      ]
     },
     "execution_count": 8,
     "metadata": {},
     "output_type": "execute_result"
    },
    {
     "data": {
      "image/png": "[encoded data removed]",
      "text/plain": [
       "<Figure size 432x288 with 1 Axes>"
      ]
     },
     "metadata": {
      "needs_background": "light"
     },
     "output_type": "display_data"
    }
   ],
   "source": [
    "data.plot.scatter('l','mwt')"
   ]
  },
  {
   "cell_type": "code",
   "execution_count": 14,
   "metadata": {},
   "outputs": [
    {
     "data": {
      "text/plain": [
       "<AxesSubplot:ylabel='Density'>"
      ]
     },
     "execution_count": 14,
     "metadata": {},
     "output_type": "execute_result"
    },
    {
     "data": {
      "image/png": "[encoded data removed]",
      "text/plain": [
       "<Figure size 432x288 with 1 Axes>"
      ]
     },
     "metadata": {
      "needs_background": "light"
     },
     "output_type": "display_data"
    }
   ],
   "source": [
    "data.sample(frac=0.05, replace=False, random_state=1)['l'].plot.density()"
   ]
  },
  {
   "cell_type": "code",
   "execution_count": 10,
   "metadata": {},
   "outputs": [
    {
     "data": {
      "text/plain": [
       "<AxesSubplot:ylabel='Density'>"
      ]
     },
     "execution_count": 10,
     "metadata": {},
     "output_type": "execute_result"
    },
    {
     "data": {
      "image/png": "[encoded data removed]",
      "text/plain": [
       "<Figure size 432x288 with 1 Axes>"
      ]
     },
     "metadata": {
      "needs_background": "light"
     },
     "output_type": "display_data"
    }
   ],
   "source": [
    "data.sample(frac=0.05, replace=False, random_state=1)['mwt'].plot.density()"
   ]
  },
  {
   "cell_type": "code",
   "execution_count": 13,
   "metadata": {},
   "outputs": [
    {
     "data": {
      "text/plain": [
       "<AxesSubplot:ylabel='Density'>"
      ]
     },
     "execution_count": 13,
     "metadata": {},
     "output_type": "execute_result"
    },
    {
     "data": {
      "image/png": "[encoded data removed]",
      "text/plain": [
       "<Figure size 432x288 with 1 Axes>"
      ]
     },
     "metadata": {
      "needs_background": "light"
     },
     "output_type": "display_data"
    }
   ],
   "source": [
    "data.sample(frac=0.05, replace=False, random_state=1)['n_atoms'].plot.density()"
   ]
  },
  {
   "cell_type": "code",
   "execution_count": 11,
   "metadata": {},
   "outputs": [
    {
     "data": {
      "text/plain": [
       "<AxesSubplot:ylabel='Density'>"
      ]
     },
     "execution_count": 11,
     "metadata": {},
     "output_type": "execute_result"
    },
    {
     "data": {
      "image/png": "[encoded data removed]",
      "text/plain": [
       "<Figure size 432x288 with 1 Axes>"
      ]
     },
     "metadata": {
      "needs_background": "light"
     },
     "output_type": "display_data"
    }
   ],
   "source": [
    "data.sample(frac=0.05, replace=False, random_state=1)['logp'].plot.density()"
   ]
  },
  {
   "cell_type": "code",
   "execution_count": null,
   "metadata": {},
   "outputs": [],
   "source": [
    "## number of unique MolFormula\n",
    "len(data['MolFormula'].unique())"
   ]
  },
  {
   "cell_type": "markdown",
   "metadata": {},
   "source": [
    "## Work on word list and test it"
   ]
  },
  {
   "cell_type": "code",
   "execution_count": 47,
   "metadata": {},
   "outputs": [
    {
     "data": {
      "text/plain": [
       "13"
      ]
     },
     "execution_count": 47,
     "metadata": {},
     "output_type": "execute_result"
    }
   ],
   "source": [
    "sum(data['smiles'].str.contains('8',regex=False))"
   ]
  },
  {
   "cell_type": "code",
   "execution_count": 63,
   "metadata": {},
   "outputs": [],
   "source": [
    "word_list = ['C','c','N','n','O','o','H','[',']','(',')','-','+','=','@','/','\\\\','#','$','&']\n",
    "word_list += list(string.digits)\n",
    "stoi = { ch:i for i,ch in enumerate(word_list) }\n",
    "itos = { i:ch for i,ch in enumerate(word_list) }\n",
    "## % and $ and * and & are not in the dataset"
   ]
  },
  {
   "cell_type": "code",
   "execution_count": 59,
   "metadata": {},
   "outputs": [],
   "source": [
    "def tokenize_smiles(smiles, molecular_formula, stoi, block_size = None, stop_token = '$', split_token = '&'):\n",
    "    chunk = molecular_formula + split_token + smiles + stop_token\n",
    "    if block_size is not None:\n",
    "        chunk = chunk + stop_token*(block_size - len(chunk))\n",
    "    data = [stoi[s] for s in chunk]\n",
    "    return data"
   ]
  },
  {
   "cell_type": "code",
   "execution_count": 71,
   "metadata": {},
   "outputs": [
    {
     "name": "stdout",
     "output_type": "stream",
     "text": [
      "0\n",
      "error in tokenize_smiles: idx = 905932\n",
      "CC(C)C(C)(C)Cn1c(-c2cccn2C)nnc1N1CCC[C@H]1C\n",
      "1000000\n",
      "error in tokenize_smiles: idx = 1318324\n",
      "Cc1cc(C(=O)N[C@@]2(C)CCN(C(=O)[C@@H]3CCCNC3=O)C2)oc1C\n",
      "error in tokenize_smiles: idx = 1330890\n",
      "CN(C)c1ccc(C(=O)N(C)C2CN(C(=O)C[C@H]3C=CCC3)C2)nn1\n",
      "2000000\n",
      "3000000\n",
      "4000000\n",
      "5000000\n",
      "6000000\n",
      "7000000\n",
      "8000000\n"
     ]
    }
   ],
   "source": [
    "for idx in range(len(data)):\n",
    "    try:\n",
    "        truc = tokenize_smiles(data['smiles'][idx],data['MolFormula'][idx], stoi, block_size=140)\n",
    "    except:\n",
    "        print('error in tokenize_smiles: idx = ' + str(idx))\n",
    "        print(data['smiles'][idx])\n",
    "    if idx % 1000000 == 0:\n",
    "        print(idx)"
   ]
  },
  {
   "cell_type": "markdown",
   "metadata": {},
   "source": [
    "## Deal with train_test_split"
   ]
  },
  {
   "cell_type": "code",
   "execution_count": 133,
   "metadata": {},
   "outputs": [
    {
     "data": {
      "text/plain": [
       "True     8605866\n",
       "False      53597\n",
       "Name: train, dtype: int64"
      ]
     },
     "execution_count": 133,
     "metadata": {},
     "output_type": "execute_result"
    }
   ],
   "source": [
    "MolForm_train = list(pd.Series(data['MolFormula'].unique()).sample(frac = 0.998,random_state = 1))\n",
    "data['train'] = data['MolFormula'].isin(MolForm_train)\n",
    "data['train'].value_counts()#.plot.bar()"
   ]
  },
  {
   "cell_type": "code",
   "execution_count": 99,
   "metadata": {},
   "outputs": [
    {
     "data": {
      "text/html": [
       "<div>\n",
       "<style scoped>\n",
       "    .dataframe tbody tr th:only-of-type {\n",
       "        vertical-align: middle;\n",
       "    }\n",
       "\n",
       "    .dataframe tbody tr th {\n",
       "        vertical-align: top;\n",
       "    }\n",
       "\n",
       "    .dataframe thead th {\n",
       "        text-align: right;\n",
       "    }\n",
       "</style>\n",
       "<table border=\"1\" class=\"dataframe\">\n",
       "  <thead>\n",
       "    <tr style=\"text-align: right;\">\n",
       "      <th></th>\n",
       "      <th>smiles</th>\n",
       "      <th>mwt</th>\n",
       "      <th>logp</th>\n",
       "      <th>n_atoms</th>\n",
       "      <th>MolFormula</th>\n",
       "      <th>l</th>\n",
       "      <th>CHNO</th>\n",
       "      <th>l_MolFormula</th>\n",
       "      <th>l_chunk</th>\n",
       "      <th>train</th>\n",
       "    </tr>\n",
       "  </thead>\n",
       "  <tbody>\n",
       "    <tr>\n",
       "      <th>0</th>\n",
       "      <td>O=C(CCCC(=O)N1CC(=O)Nc2ccccc21)NCCc1cc(O)c(O)cc1O</td>\n",
       "      <td>413.430</td>\n",
       "      <td>1.618</td>\n",
       "      <td>30.0</td>\n",
       "      <td>C21H23N3O6</td>\n",
       "      <td>49.0</td>\n",
       "      <td>True</td>\n",
       "      <td>10</td>\n",
       "      <td>61.0</td>\n",
       "      <td>True</td>\n",
       "    </tr>\n",
       "    <tr>\n",
       "      <th>1</th>\n",
       "      <td>CC(C)(C)OC(=O)N1CCC2(CC1)CN(Cc1c(O)cc(O)cc1O)C...</td>\n",
       "      <td>407.467</td>\n",
       "      <td>1.505</td>\n",
       "      <td>29.0</td>\n",
       "      <td>C20H29N3O6</td>\n",
       "      <td>53.0</td>\n",
       "      <td>True</td>\n",
       "      <td>10</td>\n",
       "      <td>65.0</td>\n",
       "      <td>True</td>\n",
       "    </tr>\n",
       "    <tr>\n",
       "      <th>2</th>\n",
       "      <td>COc1cc(CN2CCN(C(=O)[C@H]3COc4ccccc4O3)CC2)c(O)...</td>\n",
       "      <td>414.458</td>\n",
       "      <td>1.894</td>\n",
       "      <td>30.0</td>\n",
       "      <td>C22H26N2O6</td>\n",
       "      <td>53.0</td>\n",
       "      <td>True</td>\n",
       "      <td>10</td>\n",
       "      <td>65.0</td>\n",
       "      <td>True</td>\n",
       "    </tr>\n",
       "    <tr>\n",
       "      <th>3</th>\n",
       "      <td>COc1ccc(N2CCN(CCN3C(=O)N[C@@H]([C@@H]4CCCOC4)C...</td>\n",
       "      <td>402.495</td>\n",
       "      <td>1.164</td>\n",
       "      <td>29.0</td>\n",
       "      <td>C21H30N4O4</td>\n",
       "      <td>57.0</td>\n",
       "      <td>True</td>\n",
       "      <td>10</td>\n",
       "      <td>69.0</td>\n",
       "      <td>True</td>\n",
       "    </tr>\n",
       "    <tr>\n",
       "      <th>4</th>\n",
       "      <td>CN1CCOc2cc(CN3C[C@@H]4COC[C@@H](C(=O)N5CCCCO5)...</td>\n",
       "      <td>401.507</td>\n",
       "      <td>1.764</td>\n",
       "      <td>29.0</td>\n",
       "      <td>C22H31N3O4</td>\n",
       "      <td>61.0</td>\n",
       "      <td>True</td>\n",
       "      <td>10</td>\n",
       "      <td>73.0</td>\n",
       "      <td>True</td>\n",
       "    </tr>\n",
       "    <tr>\n",
       "      <th>...</th>\n",
       "      <td>...</td>\n",
       "      <td>...</td>\n",
       "      <td>...</td>\n",
       "      <td>...</td>\n",
       "      <td>...</td>\n",
       "      <td>...</td>\n",
       "      <td>...</td>\n",
       "      <td>...</td>\n",
       "      <td>...</td>\n",
       "      <td>...</td>\n",
       "    </tr>\n",
       "    <tr>\n",
       "      <th>8659458</th>\n",
       "      <td>CCC[C@H](OC)c1noc(C(C)(C)c2ccc([N+](=O)[O-])cc...</td>\n",
       "      <td>319.361</td>\n",
       "      <td>3.791</td>\n",
       "      <td>23.0</td>\n",
       "      <td>C16H21N3O4</td>\n",
       "      <td>50.0</td>\n",
       "      <td>True</td>\n",
       "      <td>10</td>\n",
       "      <td>62.0</td>\n",
       "      <td>True</td>\n",
       "    </tr>\n",
       "    <tr>\n",
       "      <th>8659459</th>\n",
       "      <td>COc1ccc([N+](=O)[O-])cc1Nc1ccnn1-c1cccc(C)c1</td>\n",
       "      <td>324.340</td>\n",
       "      <td>3.841</td>\n",
       "      <td>24.0</td>\n",
       "      <td>C17H16N4O3</td>\n",
       "      <td>44.0</td>\n",
       "      <td>True</td>\n",
       "      <td>10</td>\n",
       "      <td>56.0</td>\n",
       "      <td>True</td>\n",
       "    </tr>\n",
       "    <tr>\n",
       "      <th>8659460</th>\n",
       "      <td>COc1cccc(N[C@@H]2CCO[C@@H](C(C)(C)C)C2)c1[N+](...</td>\n",
       "      <td>308.378</td>\n",
       "      <td>3.609</td>\n",
       "      <td>22.0</td>\n",
       "      <td>C16H24N2O4</td>\n",
       "      <td>53.0</td>\n",
       "      <td>True</td>\n",
       "      <td>10</td>\n",
       "      <td>65.0</td>\n",
       "      <td>True</td>\n",
       "    </tr>\n",
       "    <tr>\n",
       "      <th>8659461</th>\n",
       "      <td>CCC[C@@H]1CCCCN1C(=O)CCc1cccc([N+](=O)[O-])c1</td>\n",
       "      <td>304.390</td>\n",
       "      <td>3.709</td>\n",
       "      <td>22.0</td>\n",
       "      <td>C17H24N2O3</td>\n",
       "      <td>45.0</td>\n",
       "      <td>True</td>\n",
       "      <td>10</td>\n",
       "      <td>57.0</td>\n",
       "      <td>True</td>\n",
       "    </tr>\n",
       "    <tr>\n",
       "      <th>8659462</th>\n",
       "      <td>COCCN(C/C=C/c1ccccc1[N+](=O)[O-])[C@@H]1CC[C@@...</td>\n",
       "      <td>318.417</td>\n",
       "      <td>3.745</td>\n",
       "      <td>23.0</td>\n",
       "      <td>C18H26N2O3</td>\n",
       "      <td>53.0</td>\n",
       "      <td>True</td>\n",
       "      <td>10</td>\n",
       "      <td>65.0</td>\n",
       "      <td>True</td>\n",
       "    </tr>\n",
       "  </tbody>\n",
       "</table>\n",
       "<p>8659463 rows × 10 columns</p>\n",
       "</div>"
      ],
      "text/plain": [
       "                                                    smiles      mwt   logp  \\\n",
       "0        O=C(CCCC(=O)N1CC(=O)Nc2ccccc21)NCCc1cc(O)c(O)cc1O  413.430  1.618   \n",
       "1        CC(C)(C)OC(=O)N1CCC2(CC1)CN(Cc1c(O)cc(O)cc1O)C...  407.467  1.505   \n",
       "2        COc1cc(CN2CCN(C(=O)[C@H]3COc4ccccc4O3)CC2)c(O)...  414.458  1.894   \n",
       "3        COc1ccc(N2CCN(CCN3C(=O)N[C@@H]([C@@H]4CCCOC4)C...  402.495  1.164   \n",
       "4        CN1CCOc2cc(CN3C[C@@H]4COC[C@@H](C(=O)N5CCCCO5)...  401.507  1.764   \n",
       "...                                                    ...      ...    ...   \n",
       "8659458  CCC[C@H](OC)c1noc(C(C)(C)c2ccc([N+](=O)[O-])cc...  319.361  3.791   \n",
       "8659459       COc1ccc([N+](=O)[O-])cc1Nc1ccnn1-c1cccc(C)c1  324.340  3.841   \n",
       "8659460  COc1cccc(N[C@@H]2CCO[C@@H](C(C)(C)C)C2)c1[N+](...  308.378  3.609   \n",
       "8659461      CCC[C@@H]1CCCCN1C(=O)CCc1cccc([N+](=O)[O-])c1  304.390  3.709   \n",
       "8659462  COCCN(C/C=C/c1ccccc1[N+](=O)[O-])[C@@H]1CC[C@@...  318.417  3.745   \n",
       "\n",
       "         n_atoms  MolFormula     l  CHNO  l_MolFormula  l_chunk  train  \n",
       "0           30.0  C21H23N3O6  49.0  True            10     61.0   True  \n",
       "1           29.0  C20H29N3O6  53.0  True            10     65.0   True  \n",
       "2           30.0  C22H26N2O6  53.0  True            10     65.0   True  \n",
       "3           29.0  C21H30N4O4  57.0  True            10     69.0   True  \n",
       "4           29.0  C22H31N3O4  61.0  True            10     73.0   True  \n",
       "...          ...         ...   ...   ...           ...      ...    ...  \n",
       "8659458     23.0  C16H21N3O4  50.0  True            10     62.0   True  \n",
       "8659459     24.0  C17H16N4O3  44.0  True            10     56.0   True  \n",
       "8659460     22.0  C16H24N2O4  53.0  True            10     65.0   True  \n",
       "8659461     22.0  C17H24N2O3  45.0  True            10     57.0   True  \n",
       "8659462     23.0  C18H26N2O3  53.0  True            10     65.0   True  \n",
       "\n",
       "[8659463 rows x 10 columns]"
      ]
     },
     "execution_count": 99,
     "metadata": {},
     "output_type": "execute_result"
    }
   ],
   "source": [
    "data"
   ]
  },
  {
   "cell_type": "markdown",
   "metadata": {},
   "source": [
    "## save the final file, we are ready for training"
   ]
  },
  {
   "cell_type": "code",
   "execution_count": 92,
   "metadata": {},
   "outputs": [
    {
     "data": {
      "text/plain": [
       "Index(['smiles', 'mwt', 'logp', 'n_atoms', 'MolFormula', 'l', 'CHNO',\n",
       "       'l_MolFormula', 'l_chunk', 'train'],\n",
       "      dtype='object')"
      ]
     },
     "execution_count": 92,
     "metadata": {},
     "output_type": "execute_result"
    }
   ],
   "source": [
    "data.columns"
   ]
  },
  {
   "cell_type": "code",
   "execution_count": 134,
   "metadata": {},
   "outputs": [],
   "source": [
    "data = data[['smiles', 'mwt', 'logp', 'n_atoms',\n",
    "       'MolFormula', 'l', 'CHNO', 'l_MolFormula', 'l_chunk', 'train']]"
   ]
  },
  {
   "cell_type": "code",
   "execution_count": 135,
   "metadata": {},
   "outputs": [],
   "source": [
    "data.to_csv(data_path + '/10pc_cleaned.csv',index = False)"
   ]
  }
 ],
 "metadata": {
  "kernelspec": {
   "display_name": "pytorch_smiles",
   "language": "python",
   "name": "pytorch_smiles"
  },
  "language_info": {
   "codemirror_mode": {
    "name": "ipython",
    "version": 3
   },
   "file_extension": ".py",
   "mimetype": "text/x-python",
   "name": "python",
   "nbconvert_exporter": "python",
   "pygments_lexer": "ipython3",
   "version": "3.8.5"
  }
 },
 "nbformat": 4,
 "nbformat_minor": 4
}
